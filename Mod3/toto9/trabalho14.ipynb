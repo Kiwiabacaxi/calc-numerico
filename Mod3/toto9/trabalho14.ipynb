{
 "cells": [
  {
   "cell_type": "code",
   "execution_count": 126,
   "metadata": {},
   "outputs": [],
   "source": [
    "## TRABALHO 13 TOTONINE\n",
    "## f(x)=a0+a1(x−x0)+a2(x−x0)(x−x1)+⋯+an(x−x0)(x−x1)…(x−xn)\n",
    "## por exemplo f(x0) = a0 = y0\n",
    "## f(x1) = a0 + a1(x1-x0) = y1\n",
    "## se rearranjar o a1 = (y1-y0)/(x1-x0)\n",
    "## f(x2) = a0 + a1(x2-x0) + a2(x2-x0)(x2-x1) = y2\n",
    "## se rearranjar o a2 = (y2-y1)/(x2-x1) - a1/(x2-x1) (o a1/(x2-x1) é o termo que já foi calculado e pode ser substituido)\n",
    "\n",
    "import numpy as np\n"
   ]
  },
  {
   "cell_type": "code",
   "execution_count": 138,
   "metadata": {},
   "outputs": [],
   "source": [
    "## f(x)=a0+a1(x−x0)+a2(x−x0)(x−x1)+⋯+an(x−x0)(x−x1)…(x−xn)\n",
    "## por exemplo f(x0) = a0 = y0\n",
    "## f(x1) = a0 + a1(x1-x0) = y1\n",
    "## se rearranjar o a1 = (y1-y0)/(x1-x0)\n",
    "## f(x2) = a0 + a1(x2-x0) + a2(x2-x0)(x2-x1) = y2\n",
    "## se rearranjar o a2 = (y2-y1)/(x2-x1) - a1/(x2-x1) (o a1/(x2-x1) é o termo que já foi calculado e pode ser substituido)\n",
    "\n",
    "\n",
    "\n",
    "def divided_diff(x, y):\n",
    "    '''\n",
    "    function to calculate the divided\n",
    "    differences table\n",
    "    '''\n",
    "    n = len(y)\n",
    "    tabela = np.zeros([n, n])\n",
    "\n",
    "\n",
    "    # no exemplo 2 da apostila do tema 2\n",
    "    # o vetor y eh [0.       1.386294] em numpy array, 0 EH O F(x1) e 1.386294 EH O F(x2) No material \n",
    "    # o vetor x eh [1 4] em numpy array, 0 EH O x1 e 1 EH O x2\n",
    "\n",
    "    ## aqui ele pega todas as linhas da matriz, mas especifica a coluna 0 (primeira coluna) e atribui o valor de y\n",
    "    ## entao fica assim:\n",
    "    ## [[0.       0.      ] pode ver que a primeira coluna SAO OS MESMOS VALORES DE y\n",
    "    ## [1.386294 0.      ]]\n",
    "\n",
    "    tabela[:,0] = y\n",
    "\n",
    "    \n",
    "    ## tomando como base o exemplo 2 da apostila do tema 9\n",
    "    ## for j in range(1, 2):        (O J NESSE CASO SO VAI VALER 1 PQ O RANGE COMECA NO 1 E VAI ATE 2 MAS NAO INCLUI O 2)\n",
    "    ## for i in range(2 - 1):       (o range vai ser range(1), o i vai valer so 0)\n",
    "\n",
    "    for j in range(1,n):\n",
    "        for i in range(n-j):\n",
    "            tabela[i][j] = (tabela[i+1][j-1] - tabela[i][j-1]) / (x[i+j]-x[i])\n",
    "           \n",
    "\n",
    "    # NA primeira iteracao de j, ele vai fazer o seguinte:\n",
    "    # coef[0][1] = (coef[1][0] - coef[0][0]) / (x[1]-x[0]) = (1.386294 - 0) / (4-1) = 1,6094380.462098\n",
    "\n",
    "    # dai a matriz coef ficou assim:\n",
    "    # [[0.         0.462098]   (a primeira coluna sao os valores de y, a linha eh os valores dos coeficientes b1, b2, b3, etc)\n",
    "    # [1.386294 0.       ]]\n",
    "    \n",
    "    print('tabela de diferenças divididas')\n",
    "    print(tabela)\n",
    "    print('\\n')\n",
    "    return tabela\n",
    "\n",
    "def newton_poly(coef, x_data, x):\n",
    "    '''\n",
    "    evaluate the newton polynomial \n",
    "    at x\n",
    "    '''\n",
    "    n = len(x_data) - 1 \n",
    "    p = coef[n]\n",
    "    for k in range(1,n+1):\n",
    "        p = coef[n-k] + (x -x_data[n-k])*p\n",
    "    return p"
   ]
  },
  {
   "cell_type": "code",
   "execution_count": 129,
   "metadata": {},
   "outputs": [
    {
     "name": "stdout",
     "output_type": "stream",
     "text": [
      "tabela de diferenças divididas\n",
      "[[0.        0.3583518]\n",
      " [1.791759  0.       ]]\n",
      "\n",
      "\n",
      "[0.        0.3583518]\n",
      "0.3583518\n"
     ]
    }
   ],
   "source": [
    "x = np.array([1, 6])\n",
    "y = np.array([0, 1.791759])\n",
    "# get the divided difference coef\n",
    "a_s = divided_diff(x, y)[0, :]  # o [0, :] pega a primeira linha da matriz\n",
    "print(a_s)\n",
    "# evaluate on new data points\n",
    "\n",
    "y_new = newton_poly(a_s, x, 2)\n",
    "print(y_new)\n"
   ]
  },
  {
   "cell_type": "code",
   "execution_count": 130,
   "metadata": {},
   "outputs": [
    {
     "name": "stdout",
     "output_type": "stream",
     "text": [
      "tabela de diferenças divididas\n",
      "[[ 0.         0.462098  -0.0518731  0.0078654]\n",
      " [ 1.386294   0.2027325 -0.0204115  0.       ]\n",
      " [ 1.791759   0.182321   0.         0.       ]\n",
      " [ 1.609438   0.         0.         0.       ]]\n",
      "\n",
      "\n",
      "[ 0.         0.462098  -0.0518731  0.0078654]\n",
      "0.6287674\n"
     ]
    }
   ],
   "source": [
    "x = np.array([1, 4, 6, 5])\n",
    "y = np.array([0, 1.386294, 1.791759, 1.609438])\n",
    "# get the divided difference coef\n",
    "a_s = divided_diff(x, y)[0, :]  # o [0, :] pega a primeira linha da matriz\n",
    "print(a_s)\n",
    "# evaluate on new data points\n",
    "\n",
    "y_new = newton_poly(a_s, x, 2)\n",
    "print(y_new)\n"
   ]
  },
  {
   "cell_type": "markdown",
   "metadata": {},
   "source": [
    "VEJA NESSE POLINOMIO DE ORDEM 3 QUE A TABELA DE DIFERENCAS DIVIDAS EH QUE NEM O EXEMPLO 4 DA AULA 9"
   ]
  },
  {
   "cell_type": "markdown",
   "metadata": {},
   "source": [
    "E ENTENDA QUE A PRIMEIRA LINHA DESSA TABELA DE DIFERENCAS DIVIDIDAS EH OS COEFICIENTES B1, B2, B3, B4 DA FORMULA QUE ESTA NO MATERIAL 9\n"
   ]
  },
  {
   "cell_type": "markdown",
   "metadata": {},
   "source": [
    "FINALMENTE O TRABALHO 14 REALMENTE"
   ]
  },
  {
   "cell_type": "code",
   "execution_count": 145,
   "metadata": {},
   "outputs": [
    {
     "name": "stdout",
     "output_type": "stream",
     "text": [
      "tabela de diferenças divididas\n",
      "[[ 400.          500.           50.            8.33333333]\n",
      " [ 900.          600.           75.            0.        ]\n",
      " [1500.          750.            0.            0.        ]\n",
      " [2250.            0.            0.            0.        ]]\n",
      "\n",
      "\n",
      "[400.         500.          50.           8.33333333]\n",
      "2991.6000000000004\n"
     ]
    }
   ],
   "source": [
    "\n",
    "## COMO O POLINOMIO EH ORDEM 3 PEGA-SE 4 DADOS PARA USAR E ENCONTRAR OS COEFICIENTES\n",
    "\n",
    "\n",
    "x = np.array([8, 9, 10, 11])\n",
    "y = np.array([400, 900, 1500, 2250])\n",
    "# get the divided difference coef\n",
    "a_s = divided_diff(x, y)[0, :]  # o [0, :] pega a primeira linha da matriz\n",
    "print(a_s)\n",
    "\n",
    "y_new = newton_poly(a_s, x, 11.8)\n",
    "print(y_new)\n",
    "\n",
    "\n"
   ]
  },
  {
   "cell_type": "code",
   "execution_count": 146,
   "metadata": {},
   "outputs": [
    {
     "name": "stdout",
     "output_type": "stream",
     "text": [
      "tabela de diferenças divididas\n",
      "[[ 900.          600.           75.            8.33333333]\n",
      " [1500.          750.          100.            0.        ]\n",
      " [2250.          950.            0.            0.        ]\n",
      " [3200.            0.            0.            0.        ]]\n",
      "\n",
      "\n",
      "2991.6000000000004\n"
     ]
    }
   ],
   "source": [
    "## COMO O POLINOMIO EH ORDEM 3 PEGA-SE 4 DADOS PARA USAR E ENCONTRAR OS COEFICIENTES\n",
    "\n",
    "\n",
    "x = np.array([9, 10, 11, 12])\n",
    "y = np.array([900, 1500, 2250, 3200])\n",
    "# get the divided difference coef\n",
    "a_s = divided_diff(x, y)[0, :]  # o [0, :] pega a primeira linha da matriz\n",
    "\n",
    "y_new = newton_poly(a_s, x, 11.8)\n",
    "print(y_new)\n"
   ]
  },
  {
   "cell_type": "code",
   "execution_count": 147,
   "metadata": {},
   "outputs": [
    {
     "name": "stdout",
     "output_type": "stream",
     "text": [
      "tabela de diferenças divididas\n",
      "[[1500.          750.          100.            8.33333333]\n",
      " [2250.          950.          125.            0.        ]\n",
      " [3200.         1200.            0.            0.        ]\n",
      " [4400.            0.            0.            0.        ]]\n",
      "\n",
      "\n",
      "2991.600000000001\n"
     ]
    }
   ],
   "source": [
    "\n",
    "## COMO O POLINOMIO EH ORDEM 3 PEGA-SE 4 DADOS PARA USAR E ENCONTRAR OS COEFICIENTES\n",
    "\n",
    "\n",
    "x = np.array([10, 11, 12, 13])\n",
    "y = np.array([1500, 2250, 3200, 4400])\n",
    "# get the divided difference coef\n",
    "a_s = divided_diff(x, y)[0, :]  # o [0, :] pega a primeira linha da matriz\n",
    "\n",
    "y_new = newton_poly(a_s, x, 11.8)\n",
    "print(y_new)\n",
    "\n"
   ]
  }
 ],
 "metadata": {
  "kernelspec": {
   "display_name": "fastai",
   "language": "python",
   "name": "python3"
  },
  "language_info": {
   "codemirror_mode": {
    "name": "ipython",
    "version": 3
   },
   "file_extension": ".py",
   "mimetype": "text/x-python",
   "name": "python",
   "nbconvert_exporter": "python",
   "pygments_lexer": "ipython3",
   "version": "3.12.2"
  }
 },
 "nbformat": 4,
 "nbformat_minor": 2
}
