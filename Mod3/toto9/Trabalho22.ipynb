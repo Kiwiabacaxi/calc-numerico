{
 "cells": [
  {
   "cell_type": "code",
   "execution_count": 4,
   "metadata": {},
   "outputs": [
    {
     "name": "stdout",
     "output_type": "stream",
     "text": [
      "t: [0.   0.25 0.5  0.75 1.  ]\n",
      "y: [1.         0.68533764 0.47630963 0.34759948 0.28306358]\n"
     ]
    }
   ],
   "source": [
    "import numpy as np\n",
    "\n",
    "\n",
    "def f(t, y):\n",
    "  \"\"\"\n",
    "  Função que define a derivada de y em relação a t.\n",
    "\n",
    "  Argumentos:\n",
    "    t: Valor de tempo.\n",
    "    y: Valor da variável dependente y.\n",
    "\n",
    "  Retorno:\n",
    "    Valor da derivada dy/dt.\n",
    "  \"\"\"\n",
    "  return y * t**3 - 1.5 * y\n",
    "\n",
    "def heun_modificado_iterado(t0, y0, h, n, tol):\n",
    "  \"\"\"\n",
    "  Função que implementa o Método de Heun Modificado com Iteração.\n",
    "\n",
    "  Argumentos:\n",
    "    t0: Valor inicial de tempo.\n",
    "    y0: Valor inicial da variável dependente y.\n",
    "    h: Passo de tempo.\n",
    "    n: Número de iterações.\n",
    "    tol: Tolerância para convergência.\n",
    "\n",
    "  Retorno:\n",
    "    Tupla contendo arrays NumPy com os valores de tempo (t) e variável dependente (y).\n",
    "  \"\"\"\n",
    "  t = np.linspace(t0, t0 + n * h, n + 1)\n",
    "  y = np.zeros(n + 1)\n",
    "  y[0] = y0\n",
    "\n",
    "  for i in range(1, n + 1):\n",
    "    # Cálculo de y_mid\n",
    "    y_mid = y[i - 1] + h * f(t[i - 1], y[i - 1])\n",
    "\n",
    "    # Cálculo de y_novo\n",
    "    y_novo = y[i - 1] + h / 2 * (f(t[i - 1], y[i - 1]) + f(t[i], y_mid))\n",
    "\n",
    "    # Iterações para convergência\n",
    "    erro = np.abs(y_novo - y_mid)\n",
    "    while erro > tol:\n",
    "      y_mid = y_novo\n",
    "      y_novo = y[i - 1] + h / 2 * (f(t[i - 1], y[i - 1]) + f(t[i], y_mid))\n",
    "      erro = np.abs(y_novo - y_mid)\n",
    "\n",
    "    # Armazena o valor final de y_novo\n",
    "    y[i] = y_novo\n",
    "\n",
    "  return t, y\n",
    "\n",
    "\n",
    "t0 = 0\n",
    "y0 = 1\n",
    "h = 0.25\n",
    "n = 4\n",
    "tol = 1e-6\n",
    "\n",
    "# Executando a função\n",
    "t, y = heun_modificado_iterado(t0, y0, h, n, tol)\n",
    "\n",
    "# Imprimindo os resultados\n",
    "print(\"t:\", t)\n",
    "print(\"y:\", y)"
   ]
  }
 ],
 "metadata": {
  "kernelspec": {
   "display_name": "fastai",
   "language": "python",
   "name": "python3"
  },
  "language_info": {
   "codemirror_mode": {
    "name": "ipython",
    "version": 3
   },
   "file_extension": ".py",
   "mimetype": "text/x-python",
   "name": "python",
   "nbconvert_exporter": "python",
   "pygments_lexer": "ipython3",
   "version": "3.12.2"
  }
 },
 "nbformat": 4,
 "nbformat_minor": 2
}
