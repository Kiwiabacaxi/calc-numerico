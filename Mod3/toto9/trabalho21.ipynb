{
 "cells": [
  {
   "cell_type": "markdown",
   "metadata": {},
   "source": [
    "EXEMPLO 2 DO SLIDE DO TRABALHO 21 TEMA 11"
   ]
  },
  {
   "cell_type": "code",
   "execution_count": 3,
   "metadata": {},
   "outputs": [
    {
     "name": "stdout",
     "output_type": "stream",
     "text": [
      "t: [0. 1. 2. 3. 4.]\n",
      "y: [ 2.          6.70108186 16.31978194 37.1992489  83.33776734]\n"
     ]
    }
   ],
   "source": [
    "import numpy as np\n",
    "\n",
    "def f(t, y):\n",
    "  return 4 * np.exp(0.8 * t) - 0.5 * y\n",
    "\n",
    "def heun(t0, y0, h, n):\n",
    "  ## definindo os intervalos de tempo\n",
    "  t = np.linspace(t0, t0 + n * h, n + 1)\n",
    "  ## inicializa um vetor y com valores zero do tamanho da quantidade de intervalos\n",
    "  y = np.zeros(n + 1)\n",
    "  ## primeiro y eh a condicao inicial\n",
    "  y[0] = y0\n",
    "\n",
    "  for i in range(1, n + 1):\n",
    "    y_mid = y[i - 1] + h * f(t[i - 1], y[i - 1])\n",
    "    y[i] = y[i - 1] + h / 2 * (f(t[i - 1], y[i - 1]) + f(t[i], y_mid))\n",
    "\n",
    "  return t, y\n",
    "\n",
    "## t0: tempo da condicao inicial\n",
    "t0 = 0\n",
    "## y0: valor de y na condicao inicial\n",
    "y0 = 2\n",
    "h = 1\n",
    "n = 4\n",
    "\n",
    "# Resolvendo o problema de valor inicial\n",
    "t, y = heun(t0, y0, h, n)\n",
    "\n",
    "# Imprimindo os resultados\n",
    "print(\"t:\", t)\n",
    "print(\"y:\", y)"
   ]
  },
  {
   "cell_type": "markdown",
   "metadata": {},
   "source": [
    "EXERCICIO AQUI:\n"
   ]
  },
  {
   "cell_type": "code",
   "execution_count": 4,
   "metadata": {},
   "outputs": [
    {
     "name": "stdout",
     "output_type": "stream",
     "text": [
      "t: [0.   0.25 0.5  0.75 1.  ]\n",
      "y: [1.         0.6965332  0.4920031  0.36392734 0.2982676 ]\n"
     ]
    }
   ],
   "source": [
    "import numpy as np\n",
    "\n",
    "def f(t, y):\n",
    "  return y * t**3 - 1.5 * y\n",
    "\n",
    "def heun(t0, y0, h, n):\n",
    "  t = np.linspace(t0, t0 + n * h, n + 1)\n",
    "  y = np.zeros(n + 1)\n",
    "  y[0] = y0\n",
    "\n",
    "  for i in range(1, n + 1):\n",
    "    y_mid = y[i - 1] + h * f(t[i - 1], y[i - 1])\n",
    "    y[i] = y[i - 1] + h / 2 * (f(t[i - 1], y[i - 1]) + f(t[i], y_mid))\n",
    "\n",
    "  return t, y\n",
    "\n",
    "# Definindo os parâmetros\n",
    "t0 = 0\n",
    "y0 = 1\n",
    "h = 0.25\n",
    "n = 4\n",
    "\n",
    "# Resolvendo o problema de valor inicial\n",
    "t, y = heun(t0, y0, h, n)\n",
    "\n",
    "# Imprimindo os resultados\n",
    "print(\"t:\", t)\n",
    "print(\"y:\", y)"
   ]
  }
 ],
 "metadata": {
  "kernelspec": {
   "display_name": "fastai",
   "language": "python",
   "name": "python3"
  },
  "language_info": {
   "codemirror_mode": {
    "name": "ipython",
    "version": 3
   },
   "file_extension": ".py",
   "mimetype": "text/x-python",
   "name": "python",
   "nbconvert_exporter": "python",
   "pygments_lexer": "ipython3",
   "version": "3.12.2"
  }
 },
 "nbformat": 4,
 "nbformat_minor": 2
}
