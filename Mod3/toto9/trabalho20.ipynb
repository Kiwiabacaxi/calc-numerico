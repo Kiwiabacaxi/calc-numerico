{
 "cells": [
  {
   "cell_type": "markdown",
   "metadata": {},
   "source": [
    "BATENDO COM O EXEMPLO 1 DO SLIDE DO TRABALHO 20"
   ]
  },
  {
   "cell_type": "code",
   "execution_count": 5,
   "metadata": {},
   "outputs": [
    {
     "name": "stdout",
     "output_type": "stream",
     "text": [
      "t: [0. 1. 2. 3. 4.]\n",
      "y: [ 2.          5.         11.40216371 25.51321155 56.8493113 ]\n"
     ]
    }
   ],
   "source": [
    "import numpy as np\n",
    "\n",
    "def f(t, y):\n",
    "   return 4 * np.exp(0.8 * t) - 0.5 * y\n",
    "\n",
    "def euler(t0, y0, h, n):\n",
    "  ## definindo os intervalos de tempo\n",
    "  t = np.linspace(t0, t0 + n * h, n + 1)\n",
    "  ## inicializa um vetor y com valores zero do tamanho da quantidade de intervalos\n",
    "  y = np.zeros(n + 1)\n",
    "  ## primeiro y eh a condicao inicial\n",
    "  y[0] = y0\n",
    "\n",
    "  for i in range(1, n + 1):\n",
    "    y[i] = y[i - 1] + h * f(t[i - 1], y[i - 1])\n",
    "\n",
    "  return t, y\n",
    "\n",
    "\n",
    "## t0: tempo da condicao inicial\n",
    "t0 = 0\n",
    "## y0: valor de y na condicao inicial\n",
    "y0 = 2\n",
    "h = 1\n",
    "n = 4\n",
    "\n",
    "# Resolvendo o problema de valor inicial\n",
    "t, y = euler(t0, y0, h, n)\n",
    "\n",
    "# Imprimindo os resultados\n",
    "print(\"t:\", t)\n",
    "print(\"y:\", y)"
   ]
  },
  {
   "cell_type": "markdown",
   "metadata": {},
   "source": [
    "EXERCICIO AQUI:"
   ]
  },
  {
   "cell_type": "code",
   "execution_count": 9,
   "metadata": {},
   "outputs": [
    {
     "name": "stdout",
     "output_type": "stream",
     "text": [
      "intervalo t: 0.0 valor de y: 1.0\n",
      "intervalo t: 0.25 valor de y: 0.625\n",
      "intervalo t: 0.5 valor de y: 0.39306640625\n",
      "intervalo t: 0.75 valor de y: 0.2579498291015625\n",
      "intervalo t: 1.0 valor de y: 0.18842428922653198\n"
     ]
    }
   ],
   "source": [
    "import numpy as np\n",
    "\n",
    "def f(t, y):\n",
    "  return y * t**3 - 1.5 * y\n",
    "\n",
    "def euler(t0, y0, h, n):\n",
    "  ## definindo os intervalos de tempo\n",
    "  t = np.linspace(t0, t0 + n * h, n + 1)\n",
    "  ## inicializa um vetor y com valores zero do tamanho da quantidade de intervalos\n",
    "  y = np.zeros(n + 1)\n",
    "  ## primeiro y eh a condicao inicial\n",
    "  y[0] = y0\n",
    "\n",
    "  for i in range(1, n + 1):\n",
    "    y[i] = y[i - 1] + f(t[i - 1], y[i - 1]) * h\n",
    "\n",
    "  return t, y\n",
    "\n",
    "## tempo da condicao inicial\n",
    "t0 = 0\n",
    "## valor da condicao inicial\n",
    "y0 = 1\n",
    "h = 0.25\n",
    "n = 4\n",
    "\n",
    "t, y = euler(t0, y0, h, n)\n",
    "\n",
    "for i in range(len(t)):\n",
    "  print(f'intervalo t: {t[i]} valor de y: {y[i]}')\n"
   ]
  }
 ],
 "metadata": {
  "kernelspec": {
   "display_name": "fastai",
   "language": "python",
   "name": "python3"
  },
  "language_info": {
   "codemirror_mode": {
    "name": "ipython",
    "version": 3
   },
   "file_extension": ".py",
   "mimetype": "text/x-python",
   "name": "python",
   "nbconvert_exporter": "python",
   "pygments_lexer": "ipython3",
   "version": "3.12.2"
  }
 },
 "nbformat": 4,
 "nbformat_minor": 2
}
